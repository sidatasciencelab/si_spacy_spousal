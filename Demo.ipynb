{
 "cells": [
  {
   "cell_type": "code",
   "execution_count": 1,
   "metadata": {},
   "outputs": [],
   "source": [
    "import functions"
   ]
  },
  {
   "cell_type": "markdown",
   "metadata": {},
   "source": [
    "### DATA"
   ]
  },
  {
   "cell_type": "code",
   "execution_count": 2,
   "metadata": {},
   "outputs": [],
   "source": [
    "model_name = \"smithsonian_domain\"\n",
    "labeled_data = [(\"data/spouses.json\", \"SPOUSAL\")]"
   ]
  },
  {
   "cell_type": "markdown",
   "metadata": {},
   "source": [
    "### CREATING SPACY ENTITY RULER"
   ]
  },
  {
   "cell_type": "markdown",
   "metadata": {},
   "source": [
    "Generate the patterns based on labeled_data"
   ]
  },
  {
   "cell_type": "code",
   "execution_count": 3,
   "metadata": {},
   "outputs": [],
   "source": [
    "patterns = functions.combine_patterns(labels=labeled_data)"
   ]
  },
  {
   "cell_type": "markdown",
   "metadata": {},
   "source": [
    "Passes those patterns to a blank spacy model EntityRuler"
   ]
  },
  {
   "cell_type": "code",
   "execution_count": 4,
   "metadata": {},
   "outputs": [],
   "source": [
    "functions.generate_rules(patterns, name=model_name)"
   ]
  },
  {
   "cell_type": "markdown",
   "metadata": {},
   "source": [
    "Using generated entity ruler to create a training set for spacy model"
   ]
  },
  {
   "cell_type": "code",
   "execution_count": 5,
   "metadata": {},
   "outputs": [
    {
     "name": "stdout",
     "output_type": "stream",
     "text": [
      "258\n"
     ]
    }
   ],
   "source": [
    "functions.train_rules_model(\"data/corpus.txt\", f\"{model_name}_ent_ruler\", \"data/TRAIN_DATA.json\")"
   ]
  },
  {
   "cell_type": "markdown",
   "metadata": {},
   "source": [
    "### WORD VECTORS"
   ]
  },
  {
   "cell_type": "markdown",
   "metadata": {},
   "source": [
    "Generates sentences without stopwords for training Gensim Model"
   ]
  },
  {
   "cell_type": "code",
   "execution_count": 6,
   "metadata": {},
   "outputs": [
    {
     "name": "stdout",
     "output_type": "stream",
     "text": [
      "data/corpus.txt\n",
      "19949\n"
     ]
    }
   ],
   "source": [
    "sents = functions.get_sents(\"data/corpus.txt\")"
   ]
  },
  {
   "cell_type": "code",
   "execution_count": 7,
   "metadata": {},
   "outputs": [
    {
     "data": {
      "text/plain": [
       "['In a paper to be published in a forthcoming issue of Deep Sea Research the first occurrence of a deepwater coral structure out- side of the North Atlantic is recorded',\n",
       " ' This structure was dis- covered by Dr',\n",
       " ' Donald F',\n",
       " \" Squires in the Sub-Antarctic Islands of New Zealand while he was cooperating with the New Zealand Oceanographic Institute's oceanographic program in that region\",\n",
       " ' Coupling his knowledge of living coral structures of the eastern coast of the United States with study of the deepwater fossil structure in New Zealand, Dr']"
      ]
     },
     "execution_count": 7,
     "metadata": {},
     "output_type": "execute_result"
    }
   ],
   "source": [
    "sents[:5]"
   ]
  },
  {
   "cell_type": "markdown",
   "metadata": {},
   "source": [
    "Generates Gensim word2vec model and outputs the word vectors"
   ]
  },
  {
   "cell_type": "code",
   "execution_count": 8,
   "metadata": {},
   "outputs": [
    {
     "name": "stdout",
     "output_type": "stream",
     "text": [
      "13280\n",
      "Made Phrases\n",
      "Made Bigrams\n",
      "Found sentences\n",
      "20086\n",
      "['Dr', 'Mrs', 'Mr', 'University', 'American', 'see', 'Museum', 'Smithsonian', 'research', 'John']\n",
      "Training model now...\n"
     ]
    }
   ],
   "source": [
    "functions.training(model_name=model_name)"
   ]
  },
  {
   "cell_type": "markdown",
   "metadata": {},
   "source": [
    "### CREATING SPACY NER MODEL, INJECTING WORD VECTORS, TRAINING ON THE TRAIN_DATA"
   ]
  },
  {
   "cell_type": "markdown",
   "metadata": {},
   "source": [
    "Loads the word vectors into a blank spaCy model and saves it"
   ]
  },
  {
   "cell_type": "code",
   "execution_count": 9,
   "metadata": {},
   "outputs": [],
   "source": [
    "functions.load_word_vectors(model_name)"
   ]
  },
  {
   "cell_type": "markdown",
   "metadata": {},
   "source": [
    "Creates and trains the NER model in the newly created spaCy model with the word vectors"
   ]
  },
  {
   "cell_type": "code",
   "execution_count": 10,
   "metadata": {},
   "outputs": [
    {
     "name": "stdout",
     "output_type": "stream",
     "text": [
      "258\n",
      "Starting iteration 0\n",
      "{'ner': 2795.670324393694}\n",
      "Starting iteration 1\n",
      "{'ner': 490.07485666129116}\n",
      "Starting iteration 2\n",
      "{'ner': 306.2468251576427}\n",
      "Starting iteration 3\n",
      "{'ner': 473.9316174278053}\n",
      "Starting iteration 4\n",
      "{'ner': 182.1894220563159}\n",
      "Starting iteration 5\n",
      "{'ner': 216.48160234083167}\n",
      "Starting iteration 6\n",
      "{'ner': 139.32066260011123}\n",
      "Starting iteration 7\n",
      "{'ner': 127.06793253969502}\n",
      "Starting iteration 8\n",
      "{'ner': 148.8705413412706}\n",
      "Starting iteration 9\n",
      "{'ner': 170.57293034140633}\n"
     ]
    },
    {
     "data": {
      "text/plain": [
       "<spacy.lang.en.English at 0x15bda39d0>"
      ]
     },
     "execution_count": 10,
     "metadata": {},
     "output_type": "execute_result"
    }
   ],
   "source": [
    "functions.train_spacy(\"data/TRAIN_DATA.json\", 10, model_name)"
   ]
  },
  {
   "cell_type": "code",
   "execution_count": null,
   "metadata": {},
   "outputs": [],
   "source": []
  }
 ],
 "metadata": {
  "kernelspec": {
   "display_name": "Python 3",
   "language": "python",
   "name": "python3"
  },
  "language_info": {
   "codemirror_mode": {
    "name": "ipython",
    "version": 3
   },
   "file_extension": ".py",
   "mimetype": "text/x-python",
   "name": "python",
   "nbconvert_exporter": "python",
   "pygments_lexer": "ipython3",
   "version": "3.8.6"
  }
 },
 "nbformat": 4,
 "nbformat_minor": 4
}
